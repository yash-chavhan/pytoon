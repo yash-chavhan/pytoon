{
 "cells": [
  {
   "cell_type": "code",
   "execution_count": 1,
   "id": "cedcda1b",
   "metadata": {},
   "outputs": [
    {
     "name": "stdout",
     "output_type": "stream",
     "text": [
      "Hello World!!\n"
     ]
    }
   ],
   "source": [
    "print(\"Hello World!!\")"
   ]
  },
  {
   "cell_type": "code",
   "execution_count": 2,
   "id": "c730a0a2",
   "metadata": {},
   "outputs": [
    {
     "name": "stdout",
     "output_type": "stream",
     "text": [
      "Yash Chavhan\n"
     ]
    }
   ],
   "source": [
    "print(\"Yash Chavhan\")"
   ]
  },
  {
   "cell_type": "code",
   "execution_count": 3,
   "id": "cf0b0c59",
   "metadata": {},
   "outputs": [
    {
     "ename": "NameError",
     "evalue": "name 'Print' is not defined",
     "output_type": "error",
     "traceback": [
      "\u001b[1;31m---------------------------------------------------------------------------\u001b[0m",
      "\u001b[1;31mNameError\u001b[0m                                 Traceback (most recent call last)",
      "\u001b[1;32m~\\AppData\\Local\\Temp\\ipykernel_59404\\1096109133.py\u001b[0m in \u001b[0;36m<module>\u001b[1;34m\u001b[0m\n\u001b[1;32m----> 1\u001b[1;33m \u001b[0mPrint\u001b[0m\u001b[1;33m(\u001b[0m\u001b[1;34m\"yash\"\u001b[0m\u001b[1;33m)\u001b[0m\u001b[1;33m\u001b[0m\u001b[1;33m\u001b[0m\u001b[0m\n\u001b[0m",
      "\u001b[1;31mNameError\u001b[0m: name 'Print' is not defined"
     ]
    }
   ],
   "source": [
    "Print(\"yash\")"
   ]
  },
  {
   "cell_type": "markdown",
   "id": "ee4cda4e",
   "metadata": {},
   "source": [
    "### Pythoon is case-sensitive"
   ]
  },
  {
   "cell_type": "markdown",
   "id": "d700be9c",
   "metadata": {},
   "source": [
    "### giving space is important after the #"
   ]
  },
  {
   "cell_type": "markdown",
   "id": "132a7b3b",
   "metadata": {},
   "source": [
    "#### pythoon is case-sensitive"
   ]
  },
  {
   "cell_type": "markdown",
   "id": "a9a8ba1f",
   "metadata": {},
   "source": [
    "##### pythoon is case-sensitive"
   ]
  },
  {
   "cell_type": "markdown",
   "id": "bd560a92",
   "metadata": {},
   "source": [
    "## pythoon is case-sensitive"
   ]
  },
  {
   "cell_type": "code",
   "execution_count": 5,
   "id": "48d5735b",
   "metadata": {},
   "outputs": [
    {
     "ename": "NameError",
     "evalue": "name 'yash' is not defined",
     "output_type": "error",
     "traceback": [
      "\u001b[1;31m---------------------------------------------------------------------------\u001b[0m",
      "\u001b[1;31mNameError\u001b[0m                                 Traceback (most recent call last)",
      "\u001b[1;32m~\\AppData\\Local\\Temp\\ipykernel_59404\\2930415323.py\u001b[0m in \u001b[0;36m<module>\u001b[1;34m\u001b[0m\n\u001b[1;32m----> 1\u001b[1;33m \u001b[0mprint\u001b[0m\u001b[1;33m(\u001b[0m\u001b[0myash\u001b[0m\u001b[1;33m)\u001b[0m\u001b[1;33m\u001b[0m\u001b[1;33m\u001b[0m\u001b[0m\n\u001b[0m",
      "\u001b[1;31mNameError\u001b[0m: name 'yash' is not defined"
     ]
    }
   ],
   "source": [
    "print(yash)"
   ]
  },
  {
   "cell_type": "code",
   "execution_count": 6,
   "id": "ebdc8c58",
   "metadata": {},
   "outputs": [
    {
     "name": "stdout",
     "output_type": "stream",
     "text": [
      "10\n"
     ]
    }
   ],
   "source": [
    "print(10)"
   ]
  },
  {
   "cell_type": "code",
   "execution_count": 7,
   "id": "cb147a51",
   "metadata": {},
   "outputs": [
    {
     "name": "stdout",
     "output_type": "stream",
     "text": [
      "yash\n"
     ]
    }
   ],
   "source": [
    "print('yash')"
   ]
  },
  {
   "cell_type": "markdown",
   "id": "0882f32c",
   "metadata": {},
   "source": [
    "##### String(text) should be in inverted comma"
   ]
  },
  {
   "cell_type": "code",
   "execution_count": 8,
   "id": "3fe9635f",
   "metadata": {},
   "outputs": [],
   "source": [
    "##### String(text) should be in inverted comma"
   ]
  },
  {
   "cell_type": "markdown",
   "id": "b6b307ad",
   "metadata": {},
   "source": [
    "### shortcut Keys"
   ]
  },
  {
   "cell_type": "code",
   "execution_count": 9,
   "id": "f28abd5c",
   "metadata": {},
   "outputs": [
    {
     "name": "stdout",
     "output_type": "stream",
     "text": [
      "1\n"
     ]
    }
   ],
   "source": [
    "print(1)"
   ]
  },
  {
   "cell_type": "code",
   "execution_count": null,
   "id": "b9c7ae9f",
   "metadata": {},
   "outputs": [],
   "source": []
  },
  {
   "cell_type": "code",
   "execution_count": null,
   "id": "436a851b",
   "metadata": {},
   "outputs": [],
   "source": []
  },
  {
   "cell_type": "markdown",
   "id": "5b6ee82c",
   "metadata": {},
   "source": [
    "#### Run -> shift +Enter\n",
    "##### Add cell above-> a\n",
    "##### Add cell Below-> b\n",
    "##### delete Cell -> x"
   ]
  },
  {
   "cell_type": "code",
   "execution_count": null,
   "id": "ae7b92ef",
   "metadata": {},
   "outputs": [],
   "source": []
  },
  {
   "cell_type": "code",
   "execution_count": 10,
   "id": "d3c84238",
   "metadata": {},
   "outputs": [
    {
     "data": {
      "text/plain": [
       "int"
      ]
     },
     "execution_count": 10,
     "metadata": {},
     "output_type": "execute_result"
    }
   ],
   "source": [
    "x=10\n",
    "type(x)"
   ]
  },
  {
   "cell_type": "code",
   "execution_count": 11,
   "id": "8aa9e8fa",
   "metadata": {},
   "outputs": [
    {
     "data": {
      "text/plain": [
       "float"
      ]
     },
     "execution_count": 11,
     "metadata": {},
     "output_type": "execute_result"
    }
   ],
   "source": [
    "z=10.5\n",
    "type(z)"
   ]
  },
  {
   "cell_type": "code",
   "execution_count": 12,
   "id": "32a70b13",
   "metadata": {
    "scrolled": true
   },
   "outputs": [
    {
     "data": {
      "text/plain": [
       "str"
      ]
     },
     "execution_count": 12,
     "metadata": {},
     "output_type": "execute_result"
    }
   ],
   "source": [
    "course=\"Data Science\"\n",
    "type(course)"
   ]
  },
  {
   "cell_type": "markdown",
   "id": "30dcc94b",
   "metadata": {},
   "source": [
    "### Variables"
   ]
  },
  {
   "cell_type": "code",
   "execution_count": 17,
   "id": "95e11fef",
   "metadata": {},
   "outputs": [
    {
     "data": {
      "text/plain": [
       "('DS', 'BA', 'ML')"
      ]
     },
     "execution_count": 17,
     "metadata": {},
     "output_type": "execute_result"
    }
   ],
   "source": [
    "coursenames= \"DS\",\"BA\",\"ML\"\n",
    "coursenames"
   ]
  },
  {
   "cell_type": "code",
   "execution_count": 18,
   "id": "a6ebdc1a",
   "metadata": {
    "collapsed": true
   },
   "outputs": [
    {
     "ename": "SyntaxError",
     "evalue": "invalid syntax (4232292819.py, line 1)",
     "output_type": "error",
     "traceback": [
      "\u001b[1;36m  File \u001b[1;32m\"C:\\Users\\User1\\AppData\\Local\\Temp\\ipykernel_59404\\4232292819.py\"\u001b[1;36m, line \u001b[1;32m1\u001b[0m\n\u001b[1;33m    course names= \"DS\",\"BA\",\"ML\"\u001b[0m\n\u001b[1;37m           ^\u001b[0m\n\u001b[1;31mSyntaxError\u001b[0m\u001b[1;31m:\u001b[0m invalid syntax\n"
     ]
    }
   ],
   "source": [
    "course names= \"DS\",\"BA\",\"ML\"\n",
    "course names"
   ]
  },
  {
   "cell_type": "code",
   "execution_count": null,
   "id": "4ea6bfed",
   "metadata": {},
   "outputs": [],
   "source": [
    "course*names= \"DS\",\"BA\",\"ML\"\n",
    "course*names"
   ]
  },
  {
   "cell_type": "code",
   "execution_count": null,
   "id": "18abcbc8",
   "metadata": {},
   "outputs": [],
   "source": [
    "course_names= \"DS\",\"BA\",\"ML\"\n",
    "course_names"
   ]
  },
  {
   "cell_type": "code",
   "execution_count": null,
   "id": "4a187b54",
   "metadata": {},
   "outputs": [],
   "source": [
    "3course_names= \"DS\",\"BA\",\"ML\"\n",
    "3course_names"
   ]
  },
  {
   "cell_type": "code",
   "execution_count": 15,
   "id": "54b1b3f7",
   "metadata": {},
   "outputs": [],
   "source": [
    "#### Space is not allowed\n",
    "#### The only allowed spl char is underscore\n",
    "#### Variable name should not shart with a number\n",
    "#### It should start with A-Z, a-Z only"
   ]
  },
  {
   "cell_type": "code",
   "execution_count": null,
   "id": "c30ef7b2",
   "metadata": {},
   "outputs": [],
   "source": []
  }
 ],
 "metadata": {
  "kernelspec": {
   "display_name": "Python 3 (ipykernel)",
   "language": "python",
   "name": "python3"
  },
  "language_info": {
   "codemirror_mode": {
    "name": "ipython",
    "version": 3
   },
   "file_extension": ".py",
   "mimetype": "text/x-python",
   "name": "python",
   "nbconvert_exporter": "python",
   "pygments_lexer": "ipython3",
   "version": "3.9.13"
  }
 },
 "nbformat": 4,
 "nbformat_minor": 5
}
